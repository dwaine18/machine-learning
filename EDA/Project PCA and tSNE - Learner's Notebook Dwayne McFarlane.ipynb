{
 "cells": [
  {
   "cell_type": "markdown",
   "metadata": {
    "id": "_Ioq6KPw64VM"
   },
   "source": [
    "---------------------\n",
    "# Project: PCA and tSNE\n",
    "- **Marks: 25**\n",
    "--------------------\n",
    "\n",
    "Dear Learner,\n",
    "Welcome to the project on PCA and tSNE. In this project, we aim to generate and visualise the pca and tsne embeddings for iris flower(read more about the plant <a href = \"https://en.wikipedia.org/wiki/Iris_(plant)\">here</a>) dataset.\n",
    "\n",
    "<br>\n",
    "\n",
    "---------------------\n",
    "## Background and about data\n",
    "--------------------\n",
    "\n",
    "We have learnt that PCA and tSNE can be used to represent a high dimensional data in lower dimesions thus enabling us to visualise the same.\n",
    "The dataset used here is a classic dataset to study multiclass classification - Iris plant dataset. Every data science surely comes across this dataset in their journey and it has been subject for a lot of research as well. The data has 3 types of the iris flower -  \n",
    "- Iris-Setosa\n",
    "- Iris-Versicolour\n",
    "- Iris-Virginica\n",
    "\n",
    "Four different features are described for these 3 types which are-\n",
    "\n",
    "- sepal length (cm)\t\n",
    "- sepal width (cm)\t\n",
    "- petal length (cm)\t\n",
    "- petal width (cm)\n",
    "\n",
    "<br>\n",
    "\n",
    "-----------------------\n",
    "## Objective\n",
    "-------------------------\n",
    "\n",
    "- The idea in this project is to read the data from sklearn.datasets, load it into a dataframe appropriately, do some basic data exploration and then visualize using the 2D embeddings from PCA and tSNE to check if the types are reflected well in these visualisations.\n",
    "\n",
    "\n",
    "-------------------\n",
    "## Guidelines\n",
    "-------------------\n",
    "\n",
    "- The exercise consists of semi written code blocks. You need to fill the blocks as per the instructions to achieve the required results.\n",
    "- To be able to complete the assessment in the expected time, do not change the variable names. The codes might throw errors when the names are changed.\n",
    "- You can raise your issues on the discussion forum on the Olympus.\n",
    "You can use Jupyter Notebook/ Google Colab(recommended) for this assessment.\n",
    "- Uncomment the code snippets and work on them\n",
    "- All the requirements have been numbered. You can treat them as question numbers. Marks are also added in the requirement statement.\n",
    "\n",
    "\n",
    "--------------------\n",
    "## Resources\n",
    "---------------------\n",
    "\n",
    "- Documentation PCA - https://scikit-learn.org/stable/modules/generated/sklearn.decomposition.PCA.html\n",
    "- Documnetation tSNE - https://scikit-learn.org/stable/modules/generated/sklearn.manifold.TSNE.html\n",
    "\n"
   ]
  },
  {
   "cell_type": "markdown",
   "metadata": {
    "id": "q1jHHmKT_isb"
   },
   "source": [
    "### Import the required packages"
   ]
  },
  {
   "cell_type": "code",
   "execution_count": 28,
   "metadata": {
    "id": "k0r2U2O060Ti"
   },
   "outputs": [],
   "source": [
    "import pandas as pd\n",
    "import numpy as np\n",
    "import matplotlib.pyplot as plt\n",
    "import seaborn as sns\n",
    "from matplotlib import offsetbox\n",
    "from sklearn import manifold, datasets, decomposition\n",
    "from sklearn.decomposition import PCA"
   ]
  },
  {
   "cell_type": "markdown",
   "metadata": {
    "id": "I_REzQOF_o31"
   },
   "source": [
    "### 1. Load the iris data from sklearn.datasets (2 marks)"
   ]
  },
  {
   "cell_type": "code",
   "execution_count": 22,
   "metadata": {
    "id": "Q5uJmADTx1Io"
   },
   "outputs": [],
   "source": [
    "# uncomment below\n",
    "\n",
    "# from sklearn import load_iris\n",
    "iris = datasets.load_iris()\n"
   ]
  },
  {
   "cell_type": "code",
   "execution_count": 10,
   "metadata": {
    "id": "X9fIIWI2yeiB"
   },
   "outputs": [
    {
     "name": "stdout",
     "output_type": "stream",
     "text": [
      ".. _iris_dataset:\n",
      "\n",
      "Iris plants dataset\n",
      "--------------------\n",
      "\n",
      "**Data Set Characteristics:**\n",
      "\n",
      "    :Number of Instances: 150 (50 in each of three classes)\n",
      "    :Number of Attributes: 4 numeric, predictive attributes and the class\n",
      "    :Attribute Information:\n",
      "        - sepal length in cm\n",
      "        - sepal width in cm\n",
      "        - petal length in cm\n",
      "        - petal width in cm\n",
      "        - class:\n",
      "                - Iris-Setosa\n",
      "                - Iris-Versicolour\n",
      "                - Iris-Virginica\n",
      "                \n",
      "    :Summary Statistics:\n",
      "\n",
      "    ============== ==== ==== ======= ===== ====================\n",
      "                    Min  Max   Mean    SD   Class Correlation\n",
      "    ============== ==== ==== ======= ===== ====================\n",
      "    sepal length:   4.3  7.9   5.84   0.83    0.7826\n",
      "    sepal width:    2.0  4.4   3.05   0.43   -0.4194\n",
      "    petal length:   1.0  6.9   3.76   1.76    0.9490  (high!)\n",
      "    petal width:    0.1  2.5   1.20   0.76    0.9565  (high!)\n",
      "    ============== ==== ==== ======= ===== ====================\n",
      "\n",
      "    :Missing Attribute Values: None\n",
      "    :Class Distribution: 33.3% for each of 3 classes.\n",
      "    :Creator: R.A. Fisher\n",
      "    :Donor: Michael Marshall (MARSHALL%PLU@io.arc.nasa.gov)\n",
      "    :Date: July, 1988\n",
      "\n",
      "The famous Iris database, first used by Sir R.A. Fisher. The dataset is taken\n",
      "from Fisher's paper. Note that it's the same as in R, but not as in the UCI\n",
      "Machine Learning Repository, which has two wrong data points.\n",
      "\n",
      "This is perhaps the best known database to be found in the\n",
      "pattern recognition literature.  Fisher's paper is a classic in the field and\n",
      "is referenced frequently to this day.  (See Duda & Hart, for example.)  The\n",
      "data set contains 3 classes of 50 instances each, where each class refers to a\n",
      "type of iris plant.  One class is linearly separable from the other 2; the\n",
      "latter are NOT linearly separable from each other.\n",
      "\n",
      ".. topic:: References\n",
      "\n",
      "   - Fisher, R.A. \"The use of multiple measurements in taxonomic problems\"\n",
      "     Annual Eugenics, 7, Part II, 179-188 (1936); also in \"Contributions to\n",
      "     Mathematical Statistics\" (John Wiley, NY, 1950).\n",
      "   - Duda, R.O., & Hart, P.E. (1973) Pattern Classification and Scene Analysis.\n",
      "     (Q327.D83) John Wiley & Sons.  ISBN 0-471-22361-1.  See page 218.\n",
      "   - Dasarathy, B.V. (1980) \"Nosing Around the Neighborhood: A New System\n",
      "     Structure and Classification Rule for Recognition in Partially Exposed\n",
      "     Environments\".  IEEE Transactions on Pattern Analysis and Machine\n",
      "     Intelligence, Vol. PAMI-2, No. 1, 67-71.\n",
      "   - Gates, G.W. (1972) \"The Reduced Nearest Neighbor Rule\".  IEEE Transactions\n",
      "     on Information Theory, May 1972, 431-433.\n",
      "   - See also: 1988 MLC Proceedings, 54-64.  Cheeseman et al\"s AUTOCLASS II\n",
      "     conceptual clustering system finds 3 classes in the data.\n",
      "   - Many, many more ...\n"
     ]
    }
   ],
   "source": [
    "# Uncomment below to know more about the dataset\n",
    "print(iris.DESCR)"
   ]
  },
  {
   "cell_type": "code",
   "execution_count": 11,
   "metadata": {
    "id": "ALF5jdlyvEEw"
   },
   "outputs": [],
   "source": [
    "# Now that we have loaded the data, let us extract the features, targets and feature names\n",
    "\n",
    "iris_x = iris.data\n",
    "iris_y = iris.target\n",
    "column_names = iris.feature_names"
   ]
  },
  {
   "cell_type": "markdown",
   "metadata": {
    "id": "mAcSZqbvBlNl"
   },
   "source": [
    "### 2. Create the iris_df (3 marks)\n",
    "- Using the values above, create a dataframe using the hints below.\n",
    "- The final dataframe is printed as a hint"
   ]
  },
  {
   "cell_type": "code",
   "execution_count": 19,
   "metadata": {
    "colab": {
     "base_uri": "https://localhost:8080/",
     "height": 406
    },
    "executionInfo": {
     "elapsed": 1515,
     "status": "ok",
     "timestamp": 1604086881210,
     "user": {
      "displayName": "Shrish Chandra Pandey",
      "photoUrl": "",
      "userId": "03777729159992968707"
     },
     "user_tz": -330
    },
    "id": "qDOGjektAZru",
    "outputId": "5232f37a-6f0a-42d1-d992-b4081671572b"
   },
   "outputs": [
    {
     "data": {
      "text/html": [
       "<div>\n",
       "<style scoped>\n",
       "    .dataframe tbody tr th:only-of-type {\n",
       "        vertical-align: middle;\n",
       "    }\n",
       "\n",
       "    .dataframe tbody tr th {\n",
       "        vertical-align: top;\n",
       "    }\n",
       "\n",
       "    .dataframe thead th {\n",
       "        text-align: right;\n",
       "    }\n",
       "</style>\n",
       "<table border=\"1\" class=\"dataframe\">\n",
       "  <thead>\n",
       "    <tr style=\"text-align: right;\">\n",
       "      <th></th>\n",
       "      <th>sepal length (cm)</th>\n",
       "      <th>sepal width (cm)</th>\n",
       "      <th>petal length (cm)</th>\n",
       "      <th>petal width (cm)</th>\n",
       "      <th>Y</th>\n",
       "    </tr>\n",
       "  </thead>\n",
       "  <tbody>\n",
       "    <tr>\n",
       "      <th>0</th>\n",
       "      <td>5.1</td>\n",
       "      <td>3.5</td>\n",
       "      <td>1.4</td>\n",
       "      <td>0.2</td>\n",
       "      <td>0</td>\n",
       "    </tr>\n",
       "    <tr>\n",
       "      <th>1</th>\n",
       "      <td>4.9</td>\n",
       "      <td>3.0</td>\n",
       "      <td>1.4</td>\n",
       "      <td>0.2</td>\n",
       "      <td>0</td>\n",
       "    </tr>\n",
       "    <tr>\n",
       "      <th>2</th>\n",
       "      <td>4.7</td>\n",
       "      <td>3.2</td>\n",
       "      <td>1.3</td>\n",
       "      <td>0.2</td>\n",
       "      <td>0</td>\n",
       "    </tr>\n",
       "    <tr>\n",
       "      <th>3</th>\n",
       "      <td>4.6</td>\n",
       "      <td>3.1</td>\n",
       "      <td>1.5</td>\n",
       "      <td>0.2</td>\n",
       "      <td>0</td>\n",
       "    </tr>\n",
       "    <tr>\n",
       "      <th>4</th>\n",
       "      <td>5.0</td>\n",
       "      <td>3.6</td>\n",
       "      <td>1.4</td>\n",
       "      <td>0.2</td>\n",
       "      <td>0</td>\n",
       "    </tr>\n",
       "    <tr>\n",
       "      <th>...</th>\n",
       "      <td>...</td>\n",
       "      <td>...</td>\n",
       "      <td>...</td>\n",
       "      <td>...</td>\n",
       "      <td>...</td>\n",
       "    </tr>\n",
       "    <tr>\n",
       "      <th>145</th>\n",
       "      <td>6.7</td>\n",
       "      <td>3.0</td>\n",
       "      <td>5.2</td>\n",
       "      <td>2.3</td>\n",
       "      <td>2</td>\n",
       "    </tr>\n",
       "    <tr>\n",
       "      <th>146</th>\n",
       "      <td>6.3</td>\n",
       "      <td>2.5</td>\n",
       "      <td>5.0</td>\n",
       "      <td>1.9</td>\n",
       "      <td>2</td>\n",
       "    </tr>\n",
       "    <tr>\n",
       "      <th>147</th>\n",
       "      <td>6.5</td>\n",
       "      <td>3.0</td>\n",
       "      <td>5.2</td>\n",
       "      <td>2.0</td>\n",
       "      <td>2</td>\n",
       "    </tr>\n",
       "    <tr>\n",
       "      <th>148</th>\n",
       "      <td>6.2</td>\n",
       "      <td>3.4</td>\n",
       "      <td>5.4</td>\n",
       "      <td>2.3</td>\n",
       "      <td>2</td>\n",
       "    </tr>\n",
       "    <tr>\n",
       "      <th>149</th>\n",
       "      <td>5.9</td>\n",
       "      <td>3.0</td>\n",
       "      <td>5.1</td>\n",
       "      <td>1.8</td>\n",
       "      <td>2</td>\n",
       "    </tr>\n",
       "  </tbody>\n",
       "</table>\n",
       "<p>150 rows × 5 columns</p>\n",
       "</div>"
      ],
      "text/plain": [
       "     sepal length (cm)  sepal width (cm)  petal length (cm)  petal width (cm)  \\\n",
       "0                  5.1               3.5                1.4               0.2   \n",
       "1                  4.9               3.0                1.4               0.2   \n",
       "2                  4.7               3.2                1.3               0.2   \n",
       "3                  4.6               3.1                1.5               0.2   \n",
       "4                  5.0               3.6                1.4               0.2   \n",
       "..                 ...               ...                ...               ...   \n",
       "145                6.7               3.0                5.2               2.3   \n",
       "146                6.3               2.5                5.0               1.9   \n",
       "147                6.5               3.0                5.2               2.0   \n",
       "148                6.2               3.4                5.4               2.3   \n",
       "149                5.9               3.0                5.1               1.8   \n",
       "\n",
       "     Y  \n",
       "0    0  \n",
       "1    0  \n",
       "2    0  \n",
       "3    0  \n",
       "4    0  \n",
       "..  ..  \n",
       "145  2  \n",
       "146  2  \n",
       "147  2  \n",
       "148  2  \n",
       "149  2  \n",
       "\n",
       "[150 rows x 5 columns]"
      ]
     },
     "execution_count": 19,
     "metadata": {},
     "output_type": "execute_result"
    }
   ],
   "source": [
    "#Pass the iris data to create a dataframe without the target column\n",
    "# Uncomment below\n",
    "iris_df = pd.DataFrame(iris_x)\n",
    "\n",
    "# name the column header using the column names retrieved above \n",
    "# Uncomment below\n",
    "iris_df.columns = column_names\n",
    "\n",
    "# Add the target column to the dataframe using the iris target\n",
    "# Uncomment below\n",
    "iris_df['Y'] = iris_y\n",
    "iris_df"
   ]
  },
  {
   "cell_type": "code",
   "execution_count": 20,
   "metadata": {
    "colab": {
     "base_uri": "https://localhost:8080/",
     "height": 287
    },
    "executionInfo": {
     "elapsed": 1287,
     "status": "ok",
     "timestamp": 1604087083030,
     "user": {
      "displayName": "Shrish Chandra Pandey",
      "photoUrl": "",
      "userId": "03777729159992968707"
     },
     "user_tz": -330
    },
    "id": "OfEfwqcH5eeP",
    "outputId": "1c0fa40e-3005-459a-d432-681ea64bed0f"
   },
   "outputs": [
    {
     "data": {
      "text/html": [
       "<div>\n",
       "<style scoped>\n",
       "    .dataframe tbody tr th:only-of-type {\n",
       "        vertical-align: middle;\n",
       "    }\n",
       "\n",
       "    .dataframe tbody tr th {\n",
       "        vertical-align: top;\n",
       "    }\n",
       "\n",
       "    .dataframe thead th {\n",
       "        text-align: right;\n",
       "    }\n",
       "</style>\n",
       "<table border=\"1\" class=\"dataframe\">\n",
       "  <thead>\n",
       "    <tr style=\"text-align: right;\">\n",
       "      <th></th>\n",
       "      <th>sepal length (cm)</th>\n",
       "      <th>sepal width (cm)</th>\n",
       "      <th>petal length (cm)</th>\n",
       "      <th>petal width (cm)</th>\n",
       "      <th>Y</th>\n",
       "    </tr>\n",
       "  </thead>\n",
       "  <tbody>\n",
       "    <tr>\n",
       "      <th>count</th>\n",
       "      <td>150.000000</td>\n",
       "      <td>150.000000</td>\n",
       "      <td>150.000000</td>\n",
       "      <td>150.000000</td>\n",
       "      <td>150.000000</td>\n",
       "    </tr>\n",
       "    <tr>\n",
       "      <th>mean</th>\n",
       "      <td>5.843333</td>\n",
       "      <td>3.057333</td>\n",
       "      <td>3.758000</td>\n",
       "      <td>1.199333</td>\n",
       "      <td>1.000000</td>\n",
       "    </tr>\n",
       "    <tr>\n",
       "      <th>std</th>\n",
       "      <td>0.828066</td>\n",
       "      <td>0.435866</td>\n",
       "      <td>1.765298</td>\n",
       "      <td>0.762238</td>\n",
       "      <td>0.819232</td>\n",
       "    </tr>\n",
       "    <tr>\n",
       "      <th>min</th>\n",
       "      <td>4.300000</td>\n",
       "      <td>2.000000</td>\n",
       "      <td>1.000000</td>\n",
       "      <td>0.100000</td>\n",
       "      <td>0.000000</td>\n",
       "    </tr>\n",
       "    <tr>\n",
       "      <th>25%</th>\n",
       "      <td>5.100000</td>\n",
       "      <td>2.800000</td>\n",
       "      <td>1.600000</td>\n",
       "      <td>0.300000</td>\n",
       "      <td>0.000000</td>\n",
       "    </tr>\n",
       "    <tr>\n",
       "      <th>50%</th>\n",
       "      <td>5.800000</td>\n",
       "      <td>3.000000</td>\n",
       "      <td>4.350000</td>\n",
       "      <td>1.300000</td>\n",
       "      <td>1.000000</td>\n",
       "    </tr>\n",
       "    <tr>\n",
       "      <th>75%</th>\n",
       "      <td>6.400000</td>\n",
       "      <td>3.300000</td>\n",
       "      <td>5.100000</td>\n",
       "      <td>1.800000</td>\n",
       "      <td>2.000000</td>\n",
       "    </tr>\n",
       "    <tr>\n",
       "      <th>max</th>\n",
       "      <td>7.900000</td>\n",
       "      <td>4.400000</td>\n",
       "      <td>6.900000</td>\n",
       "      <td>2.500000</td>\n",
       "      <td>2.000000</td>\n",
       "    </tr>\n",
       "  </tbody>\n",
       "</table>\n",
       "</div>"
      ],
      "text/plain": [
       "       sepal length (cm)  sepal width (cm)  petal length (cm)  \\\n",
       "count         150.000000        150.000000         150.000000   \n",
       "mean            5.843333          3.057333           3.758000   \n",
       "std             0.828066          0.435866           1.765298   \n",
       "min             4.300000          2.000000           1.000000   \n",
       "25%             5.100000          2.800000           1.600000   \n",
       "50%             5.800000          3.000000           4.350000   \n",
       "75%             6.400000          3.300000           5.100000   \n",
       "max             7.900000          4.400000           6.900000   \n",
       "\n",
       "       petal width (cm)           Y  \n",
       "count        150.000000  150.000000  \n",
       "mean           1.199333    1.000000  \n",
       "std            0.762238    0.819232  \n",
       "min            0.100000    0.000000  \n",
       "25%            0.300000    0.000000  \n",
       "50%            1.300000    1.000000  \n",
       "75%            1.800000    2.000000  \n",
       "max            2.500000    2.000000  "
      ]
     },
     "execution_count": 20,
     "metadata": {},
     "output_type": "execute_result"
    }
   ],
   "source": [
    "iris_df.describe()"
   ]
  },
  {
   "cell_type": "markdown",
   "metadata": {
    "id": "zIsFUB_ZCsfN"
   },
   "source": [
    "### 3. We have learnt that there are 3 types of flowers in this dataset represented by 0,1 and 2 in the Y column. Create a boxplot by completing the function below that plots the distribution of the features over different types. (3 marks)"
   ]
  },
  {
   "cell_type": "code",
   "execution_count": 24,
   "metadata": {
    "colab": {
     "base_uri": "https://localhost:8080/",
     "height": 420
    },
    "executionInfo": {
     "elapsed": 2206,
     "status": "ok",
     "timestamp": 1604087263577,
     "user": {
      "displayName": "Shrish Chandra Pandey",
      "photoUrl": "",
      "userId": "03777729159992968707"
     },
     "user_tz": -330
    },
    "id": "mNHZ3w1Y4teK",
    "outputId": "60c6d29f-2cb5-40fe-acfc-4d48afd2a3f5"
   },
   "outputs": [
    {
     "data": {
      "image/png": "[encoded data removed]",
      "text/plain": [
       "<Figure size 1080x432 with 5 Axes>"
      ]
     },
     "metadata": {
      "needs_background": "light"
     },
     "output_type": "display_data"
    }
   ],
   "source": [
    "# Use the column that stores the type of flower in by argument\n",
    "#uncomment below\n",
    "\n",
    "iris_df.boxplot(by = 'Y', layout = (1,5), figsize=(15,6) )\n",
    "plt.show()"
   ]
  },
  {
   "cell_type": "code",
   "execution_count": 25,
   "metadata": {
    "colab": {
     "base_uri": "https://localhost:8080/",
     "height": 364
    },
    "executionInfo": {
     "elapsed": 1745,
     "status": "ok",
     "timestamp": 1604087648846,
     "user": {
      "displayName": "Shrish Chandra Pandey",
      "photoUrl": "",
      "userId": "03777729159992968707"
     },
     "user_tz": -330
    },
    "id": "eYYK6q01zga2",
    "outputId": "2338eb6f-707e-427d-fe85-0230eade274f"
   },
   "outputs": [
    {
     "data": {
      "text/plain": [
       "<matplotlib.axes._subplots.AxesSubplot at 0x251824155c8>"
      ]
     },
     "execution_count": 25,
     "metadata": {},
     "output_type": "execute_result"
    },
    {
     "data": {
      "image/png": "[encoded data removed]",
      "text/plain": [
       "<Figure size 432x288 with 2 Axes>"
      ]
     },
     "metadata": {
      "needs_background": "light"
     },
     "output_type": "display_data"
    }
   ],
   "source": [
    "\n",
    "sns.heatmap(iris_df[column_names].corr(), annot = True)"
   ]
  },
  {
   "cell_type": "markdown",
   "metadata": {
    "id": "tGUzJjKCEbuE"
   },
   "source": [
    "### 4. Generate the covariance heatmap (2 marks)\n",
    "\n"
   ]
  },
  {
   "cell_type": "code",
   "execution_count": null,
   "metadata": {
    "colab": {
     "base_uri": "https://localhost:8080/",
     "height": 361
    },
    "executionInfo": {
     "elapsed": 2089,
     "status": "ok",
     "timestamp": 1604087670233,
     "user": {
      "displayName": "Shrish Chandra Pandey",
      "photoUrl": "",
      "userId": "03777729159992968707"
     },
     "user_tz": -330
    },
    "id": "mty_45cVEzHv",
    "outputId": "4f51690a-5299-4858-e589-69f36bd972c9"
   },
   "outputs": [],
   "source": [
    "covMatrix = np.cov(iris_x,bias=True)\n",
    "sns.heatmap(covMatrix, annot=True, fmt='g')\n",
    "plt.show()"
   ]
  },
  {
   "cell_type": "markdown",
   "metadata": {
    "id": "nfER_sWeDoz6"
   },
   "source": [
    "### 5. Implement PCA with two components (5 marks)\n",
    "- Import and initialise the PCA object with 2 components (2 marks)\n",
    "- Transform the data with relevant column only.(2 marks)\n",
    "- Give names 'X1' and 'X2' to the columns (1 mark)\n"
   ]
  },
  {
   "cell_type": "code",
   "execution_count": 56,
   "metadata": {
    "id": "CUc7bQDfzuhb"
   },
   "outputs": [],
   "source": [
    "# Uncomment below\n",
    "\n",
    "from sklearn.decomposition import PCA\n",
    "\n",
    "pca = PCA(n_components = 2)\n",
    "\n",
    "\n",
    "# Uncomment below\n",
    "iris_pca = pca.fit_transform(iris_df[column_names])\n",
    "\n",
    "# Uncomment below\n",
    "iris_pca = pd.DataFrame(iris_pca)\n",
    "\n",
    "# Uncomment below\n",
    "iris_pca.columns = ['X1', 'X2']\n",
    "iris_pca[\"target\"] = iris_y\n"
   ]
  },
  {
   "cell_type": "code",
   "execution_count": 46,
   "metadata": {
    "colab": {
     "base_uri": "https://localhost:8080/",
     "height": 137
    },
    "executionInfo": {
     "elapsed": 1319,
     "status": "ok",
     "timestamp": 1604088288602,
     "user": {
      "displayName": "Shrish Chandra Pandey",
      "photoUrl": "",
      "userId": "03777729159992968707"
     },
     "user_tz": -330
    },
    "id": "FuIE7g4Y1yMf",
    "outputId": "4a936b89-ed47-43eb-f5cb-2458907b594d"
   },
   "outputs": [
    {
     "data": {
      "text/html": [
       "<div>\n",
       "<style scoped>\n",
       "    .dataframe tbody tr th:only-of-type {\n",
       "        vertical-align: middle;\n",
       "    }\n",
       "\n",
       "    .dataframe tbody tr th {\n",
       "        vertical-align: top;\n",
       "    }\n",
       "\n",
       "    .dataframe thead th {\n",
       "        text-align: right;\n",
       "    }\n",
       "</style>\n",
       "<table border=\"1\" class=\"dataframe\">\n",
       "  <thead>\n",
       "    <tr style=\"text-align: right;\">\n",
       "      <th></th>\n",
       "      <th>X1</th>\n",
       "      <th>X2</th>\n",
       "      <th>target</th>\n",
       "    </tr>\n",
       "  </thead>\n",
       "  <tbody>\n",
       "    <tr>\n",
       "      <th>0</th>\n",
       "      <td>-2.684126</td>\n",
       "      <td>0.319397</td>\n",
       "      <td>0</td>\n",
       "    </tr>\n",
       "    <tr>\n",
       "      <th>1</th>\n",
       "      <td>-2.714142</td>\n",
       "      <td>-0.177001</td>\n",
       "      <td>0</td>\n",
       "    </tr>\n",
       "    <tr>\n",
       "      <th>2</th>\n",
       "      <td>-2.888991</td>\n",
       "      <td>-0.144949</td>\n",
       "      <td>0</td>\n",
       "    </tr>\n",
       "  </tbody>\n",
       "</table>\n",
       "</div>"
      ],
      "text/plain": [
       "         X1        X2  target\n",
       "0 -2.684126  0.319397       0\n",
       "1 -2.714142 -0.177001       0\n",
       "2 -2.888991 -0.144949       0"
      ]
     },
     "execution_count": 46,
     "metadata": {},
     "output_type": "execute_result"
    }
   ],
   "source": [
    "#transformed data sample\n",
    "iris_pca.head(3)"
   ]
  },
  {
   "cell_type": "markdown",
   "metadata": {
    "id": "ap_kSQBpI_-V"
   },
   "source": [
    "### 6. Write a function that takes the the embedding dataframe like above and generate a scatterplot with target column as the hue.(5 marks)"
   ]
  },
  {
   "cell_type": "code",
   "execution_count": 63,
   "metadata": {
    "id": "EwirSNnb0SSb"
   },
   "outputs": [],
   "source": [
    "# A function that takes a dataframe of embeddings.\n",
    "\n",
    "#Uncomment below\n",
    "\n",
    "def plot_scatter(iris_pca):\n",
    "  plt.figure(figsize = (7,7))\n",
    "  sns.scatterplot(x = iris_pca['X1'], y = iris_pca['X2'])"
   ]
  },
  {
   "cell_type": "markdown",
   "metadata": {
    "id": "SeHjtKyvJszr"
   },
   "source": [
    "### 7. Call the above function with the pca embedding dataset to generate the visualisation(2 marks)"
   ]
  },
  {
   "cell_type": "code",
   "execution_count": 64,
   "metadata": {
    "id": "YRF8sGRT0jqc"
   },
   "outputs": [
    {
     "name": "stdout",
     "output_type": "stream",
     "text": [
      "PCA embeddings visualised over target types\n",
      "\n"
     ]
    },
    {
     "data": {
      "image/png": "[encoded data removed]",
      "text/plain": [
       "<Figure size 504x504 with 1 Axes>"
      ]
     },
     "metadata": {
      "needs_background": "light"
     },
     "output_type": "display_data"
    }
   ],
   "source": [
    "# Uncomment below\n",
    "print(\"PCA embeddings visualised over target types\")\n",
    "print()\n",
    "\n",
    "\n",
    "plot_scatter(iris_pca)"
   ]
  },
  {
   "cell_type": "markdown",
   "metadata": {
    "id": "fJITkQ4MKWXO"
   },
   "source": [
    "### 8. Initialise tSNE with 2 components and generate the plot by calling the above function (3 marks)\n",
    "\n",
    " - Generate the embeddings (1)\n",
    " - Create the requried dataframe (1)\n",
    " - Call the above defined function (1)"
   ]
  },
  {
   "cell_type": "code",
   "execution_count": 69,
   "metadata": {
    "id": "V5seh5xB2dvL"
   },
   "outputs": [],
   "source": [
    "# Uncomment below\n",
    "# initialise the tSNE object\n",
    "from sklearn.manifold import TSNE\n",
    "tsne = TSNE(n_components=2, init='pca', random_state=0)\n",
    "\n",
    "\n",
    "# fit and transform and generate the required dataframe\n",
    "iris_tsne = tsne.fit_transform(iris_df[column_names])\n",
    "iris_tsne = pd.DataFrame(iris_tsne) \n",
    "\n",
    "# assign column names and add target column\n",
    "iris_tsne.columns = ['X1', 'X2']\n",
    "iris_tsne[\"target\"] = iris_y\n",
    "\n",
    "\n",
    "# call the function above for tsne results\n",
    "\n",
    "# print(\"tSNE embeddings visualized over target types\")\n",
    "# -----------call the plotting function here-------------"
   ]
  },
  {
   "cell_type": "code",
   "execution_count": null,
   "metadata": {},
   "outputs": [],
   "source": []
  }
 ],
 "metadata": {
  "colab": {
   "authorship_tag": "ABX9TyPabZo/u9DwI58SWsZl7cla",
   "collapsed_sections": [
    "zIsFUB_ZCsfN",
    "tGUzJjKCEbuE",
    "nfER_sWeDoz6",
    "ap_kSQBpI_-V",
    "SeHjtKyvJszr",
    "fJITkQ4MKWXO"
   ],
   "name": "Project PCA and tSNE - Learner's Notebook.ipynb",
   "provenance": []
  },
  "kernelspec": {
   "display_name": "Python 3",
   "language": "python",
   "name": "python3"
  },
  "language_info": {
   "codemirror_mode": {
    "name": "ipython",
    "version": 3
   },
   "file_extension": ".py",
   "mimetype": "text/x-python",
   "name": "python",
   "nbconvert_exporter": "python",
   "pygments_lexer": "ipython3",
   "version": "3.7.6"
  }
 },
 "nbformat": 4,
 "nbformat_minor": 1
}
